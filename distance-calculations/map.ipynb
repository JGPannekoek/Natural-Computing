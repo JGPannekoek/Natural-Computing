{
 "cells": [
  {
   "cell_type": "code",
   "execution_count": 8,
   "id": "76c954d0-e640-4124-97ea-def2a45e14bf",
   "metadata": {},
   "outputs": [],
   "source": [
    "from ipyleaflet import Map, Marker, basemaps, GeoJSON, FullScreenControl, DivIcon, Polyline, CircleMarker\n",
    "import pandas as pd\n",
    "import json\n",
    "from PIL import Image\n",
    "import networkx as nx"
   ]
  },
  {
   "cell_type": "markdown",
   "id": "4a489629-dde6-4f81-9b30-2c3a6c74f95c",
   "metadata": {},
   "source": [
    "# Discretizing map"
   ]
  },
  {
   "cell_type": "code",
   "execution_count": 28,
   "id": "b5d43eb0-39b2-4fb1-ae8b-082b516368c9",
   "metadata": {},
   "outputs": [],
   "source": [
    "stations = pd.read_csv(\"stations_of_interest.csv\") # Load stations of interest"
   ]
  },
  {
   "cell_type": "code",
   "execution_count": 27,
   "id": "19ffd637-d657-4b23-8369-0dd0a66f7f9d",
   "metadata": {},
   "outputs": [
    {
     "data": {
      "application/vnd.jupyter.widget-view+json": {
       "model_id": "fdb24c9b4b724fe5860dff206c80360f",
       "version_major": 2,
       "version_minor": 0
      },
      "text/plain": [
       "Map(center=[52.198, 5.537], controls=(ZoomControl(options=['position', 'zoom_in_text', 'zoom_in_title', 'zoom_…"
      ]
     },
     "metadata": {},
     "output_type": "display_data"
    }
   ],
   "source": [
    "center = (52.198, 5.537)\n",
    "m = Map(center=center, zoom=9, basemap=basemaps.CartoDB.Positron) # Create map object\n",
    "\n",
    "with open('provincie_2025.geojson', 'r') as f: # Load outlines\n",
    "    data = json.load(f)\n",
    "\n",
    "geo_json = GeoJSON(data=data, style={'fillColor': 'black', 'weight': 0, 'fillOpacity': 1})\n",
    "m.add(geo_json)\n",
    "\n",
    "m.add(FullScreenControl())\n",
    "\n",
    "for _, station in stations.iterrows(): # Add stations with special small markers\n",
    "    icon = DivIcon(html='<div class=\"markerr\"></div>', center=(station['lat'], station['lng']), draggable=False, bg_pos=(0,0), icon_size=(1,1))\n",
    "    marker = Marker(location=(station['lat'], station['lng']), icon=icon)\n",
    "    m.add(marker)\n",
    "\n",
    "display(m)"
   ]
  },
  {
   "cell_type": "markdown",
   "id": "6bc09136-e018-482d-8db4-72565f763451",
   "metadata": {},
   "source": [
    "Inbetween here is a manual step in photoshop to produce `outline.png`. Here, the area of the Netherlands is filled with green pixels, and stations are marked as red pixels. All other pixels are erased, and the image is cropped."
   ]
  },
  {
   "cell_type": "code",
   "execution_count": 11,
   "id": "96629b2b-000d-4ef4-a608-b06044f6e079",
   "metadata": {},
   "outputs": [],
   "source": [
    "outline = Image.open(\"outline.png\") # Load photoshopped image\n",
    "outline.show()"
   ]
  },
  {
   "cell_type": "code",
   "execution_count": 26,
   "id": "cb5ada53-7cb4-4010-8f6b-b712075d0d17",
   "metadata": {},
   "outputs": [],
   "source": [
    "for y in range(outline.height): # Turn pixel values into class labels\n",
    "    row = []\n",
    "    for x in range(outline.width):\n",
    "        r, g, b, a = outline.getpixel((x, y))\n",
    "        value = (1 if g > 0 else 0) + (2 if r > 0 else 0)\n",
    "        row.append(value)\n",
    "    output.append(row)"
   ]
  },
  {
   "cell_type": "code",
   "execution_count": 15,
   "id": "c387f080-6ee5-4a0d-af14-256a9fb68b86",
   "metadata": {},
   "outputs": [],
   "source": [
    "with open('output.json', 'w+') as o: # Store class labels\n",
    "    json.dump(output, o)"
   ]
  },
  {
   "cell_type": "markdown",
   "id": "2fbd9cb0-69ff-49c6-adf9-fa7cbc6de670",
   "metadata": {},
   "source": [
    "# Generate figure showing NS stations"
   ]
  },
  {
   "cell_type": "code",
   "execution_count": 19,
   "id": "a2e75b9d-d972-47d1-bf11-f70a6acbc755",
   "metadata": {},
   "outputs": [],
   "source": [
    "nodes = pd.read_csv(\"nodes.csv\") # Import NS data\n",
    "edges = pd.read_csv(\"edges.csv\")"
   ]
  },
  {
   "cell_type": "code",
   "execution_count": 22,
   "id": "b86786d6-55cb-4c8d-b738-37b85690a367",
   "metadata": {},
   "outputs": [
    {
     "name": "stdout",
     "output_type": "stream",
     "text": [
      "Graph with 395 nodes and 434 edges\n"
     ]
    },
    {
     "data": {
      "application/vnd.jupyter.widget-view+json": {
       "model_id": "3728c1d95ffd4be0be997a56ab1135a5",
       "version_major": 2,
       "version_minor": 0
      },
      "text/plain": [
       "Map(center=[52.198, 5.537], controls=(ZoomControl(options=['position', 'zoom_in_text', 'zoom_in_title', 'zoom_…"
      ]
     },
     "metadata": {},
     "output_type": "display_data"
    }
   ],
   "source": [
    "m2 = Map(center=center, zoom=9, basemap=basemaps.CartoDB.Positron) # Create map object\n",
    "G = nx.Graph()\n",
    "\n",
    "for _, row in nodes.iterrows(): # Loop over stations\n",
    "    G.add_node(row['name'], station=row['station'], lat=row['lat'], lng=row['lng']) # Add station node\n",
    "\n",
    "    if (stations['code'].eq(row['name'])).any(): # Only add marker if it's a station of interest\n",
    "        marker = Marker(location=(row['lat'], row['lng']), draggable=False)\n",
    "        m2.add(marker)\n",
    "\n",
    "lat = nx.get_node_attributes(G, 'lat')\n",
    "lng = nx.get_node_attributes(G, 'lng')\n",
    "for _, row in edges.iterrows(): # Add edges\n",
    "    G.add_edge(row['from'], row['to'])\n",
    "    locs = [[lat[row['from']], lng[row['from']]], [lat[row['to']], lng[row['to']]]]\n",
    "    line = Polyline(locations=locs, color='blue', weight=2)\n",
    "    m2.add(line)\n",
    "\n",
    "print(G)\n",
    "m2.add(FullScreenControl())\n",
    "\n",
    "display(m2)"
   ]
  }
 ],
 "metadata": {
  "kernelspec": {
   "display_name": "Python 3 (ipykernel)",
   "language": "python",
   "name": "python3"
  },
  "language_info": {
   "codemirror_mode": {
    "name": "ipython",
    "version": 3
   },
   "file_extension": ".py",
   "mimetype": "text/x-python",
   "name": "python",
   "nbconvert_exporter": "python",
   "pygments_lexer": "ipython3",
   "version": "3.12.10"
  }
 },
 "nbformat": 4,
 "nbformat_minor": 5
}
