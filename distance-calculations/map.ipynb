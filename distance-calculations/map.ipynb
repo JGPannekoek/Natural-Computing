{
 "cells": [
  {
   "cell_type": "code",
   "execution_count": 2,
   "id": "76c954d0-e640-4124-97ea-def2a45e14bf",
   "metadata": {},
   "outputs": [],
   "source": [
    "from ipyleaflet import Map, Marker, basemaps, GeoJSON, FullScreenControl, DivIcon, Polyline, CircleMarker\n",
    "import pandas as pd\n",
    "import json\n",
    "from PIL import Image\n",
    "import networkx as nx"
   ]
  },
  {
   "cell_type": "code",
   "execution_count": 4,
   "id": "b5d43eb0-39b2-4fb1-ae8b-082b516368c9",
   "metadata": {},
   "outputs": [],
   "source": [
    "stations = pd.read_csv(\"stations_of_interest.csv\")"
   ]
  },
  {
   "cell_type": "code",
   "execution_count": 5,
   "id": "19ffd637-d657-4b23-8369-0dd0a66f7f9d",
   "metadata": {},
   "outputs": [
    {
     "data": {
      "application/vnd.jupyter.widget-view+json": {
       "model_id": "70b1cc700235461a97c7a58ace4a24b0",
       "version_major": 2,
       "version_minor": 0
      },
      "text/plain": [
       "Map(center=[52.198, 5.537], controls=(ZoomControl(options=['position', 'zoom_in_text', 'zoom_in_title', 'zoom_…"
      ]
     },
     "metadata": {},
     "output_type": "display_data"
    }
   ],
   "source": [
    "center = (52.198, 5.537)\n",
    "m = Map(center=center, zoom=9, basemap=basemaps.CartoDB.Positron)\n",
    "\n",
    "with open('provincie_2025.geojson', 'r') as f:\n",
    "    data = json.load(f)\n",
    "\n",
    "geo_json = GeoJSON(data=data, style={'fillColor': 'black', 'weight': 0, 'fillOpacity': 1})\n",
    "m.add(geo_json)\n",
    "\n",
    "m.add(FullScreenControl())\n",
    "\n",
    "for _, station in stations.iterrows():\n",
    "    icon = DivIcon(html='<div class=\"markerr\"></div>', center=(station['lat'], station['lng']), draggable=False, bg_pos=(0,0), icon_size=(1,1))\n",
    "    marker = Marker(location=(station['lat'], station['lng']), icon=icon)\n",
    "    m.add(marker)\n",
    "\n",
    "display(m)\n",
    "\n",
    "m.save('map.html', title='Map')"
   ]
  },
  {
   "cell_type": "code",
   "execution_count": 6,
   "id": "96629b2b-000d-4ef4-a608-b06044f6e079",
   "metadata": {},
   "outputs": [],
   "source": [
    "outline = Image.open(\"outline.png\")\n",
    "outline.show()"
   ]
  },
  {
   "cell_type": "code",
   "execution_count": 7,
   "id": "4e45ca2b-1cc1-48e2-b366-80d1bd8e60ec",
   "metadata": {},
   "outputs": [],
   "source": [
    "output = []\n",
    "n_stations = 0"
   ]
  },
  {
   "cell_type": "code",
   "execution_count": 66,
   "id": "cb5ada53-7cb4-4010-8f6b-b712075d0d17",
   "metadata": {},
   "outputs": [],
   "source": [
    "for y in range(outline.height):\n",
    "    row = []\n",
    "    for x in range(outline.width):\n",
    "        r, g, b, a = outline.getpixel((x, y))\n",
    "        value = (1 if g > 0 else 0) + (2 if r > 0 else 0)\n",
    "        n_stations += r > 0\n",
    "        row.append(value)\n",
    "    output.append(row)"
   ]
  },
  {
   "cell_type": "code",
   "execution_count": 70,
   "id": "7bf465c9-0213-4abc-b029-2186ac84283f",
   "metadata": {},
   "outputs": [
    {
     "name": "stdout",
     "output_type": "stream",
     "text": [
      "34 34\n"
     ]
    }
   ],
   "source": [
    "print(n_stations, len(stations))"
   ]
  },
  {
   "cell_type": "code",
   "execution_count": 73,
   "id": "c387f080-6ee5-4a0d-af14-256a9fb68b86",
   "metadata": {},
   "outputs": [],
   "source": [
    "with open('output.json', 'w+') as o:\n",
    "    json.dump(output, o)"
   ]
  },
  {
   "cell_type": "code",
   "execution_count": 58,
   "id": "b471be37-e3ff-4f3b-8331-7e7022edab5c",
   "metadata": {},
   "outputs": [],
   "source": [
    "test = Image.new('RGBA', (outline.width, outline.height))\n",
    "\n",
    "for y in range(test.height):\n",
    "    for x in range(test.width):\n",
    "        value = output[y][x]\n",
    "        r = 255 if value == 2 else 0\n",
    "        g = 255 if value == 1 else 0\n",
    "        b = 0\n",
    "        a = 255 if value > 0 else 0\n",
    "        test.putpixel((x, y), (r, g, b, a))"
   ]
  },
  {
   "cell_type": "code",
   "execution_count": 59,
   "id": "807994d9-862a-40dd-b094-eef715522dec",
   "metadata": {},
   "outputs": [],
   "source": [
    "test.show()"
   ]
  },
  {
   "cell_type": "code",
   "execution_count": 60,
   "id": "f97dd177-c36a-4f03-bd0a-c9d7d78ba840",
   "metadata": {},
   "outputs": [
    {
     "data": {
      "text/plain": [
       "(826, 965)"
      ]
     },
     "execution_count": 60,
     "metadata": {},
     "output_type": "execute_result"
    }
   ],
   "source": [
    "outline.width, outline.height"
   ]
  },
  {
   "cell_type": "code",
   "execution_count": 23,
   "id": "a2e75b9d-d972-47d1-bf11-f70a6acbc755",
   "metadata": {},
   "outputs": [],
   "source": [
    "nodes = pd.read_csv(\"nodes.csv\")\n",
    "edges = pd.read_csv(\"edges.csv\")"
   ]
  },
  {
   "cell_type": "code",
   "execution_count": 43,
   "id": "b86786d6-55cb-4c8d-b738-37b85690a367",
   "metadata": {},
   "outputs": [
    {
     "name": "stdout",
     "output_type": "stream",
     "text": [
      "Graph with 395 nodes and 434 edges\n"
     ]
    },
    {
     "data": {
      "application/vnd.jupyter.widget-view+json": {
       "model_id": "36b6f3188fb14ebf975b55179e34a2b8",
       "version_major": 2,
       "version_minor": 0
      },
      "text/plain": [
       "Map(center=[52.198, 5.537], controls=(ZoomControl(options=['position', 'zoom_in_text', 'zoom_in_title', 'zoom_…"
      ]
     },
     "metadata": {},
     "output_type": "display_data"
    }
   ],
   "source": [
    "m2 = Map(center=center, zoom=9, basemap=basemaps.CartoDB.Positron)\n",
    "G = nx.Graph()\n",
    "\n",
    "for _, row in nodes.iterrows():\n",
    "    G.add_node(row['name'], station=row['station'], lat=row['lat'], lng=row['lng'])\n",
    "\n",
    "    if (stations['code'].eq(row['name'])).any():\n",
    "        marker = Marker(location=(row['lat'], row['lng']), draggable=False)\n",
    "    else:\n",
    "        marker = CircleMarker(location=(row['lat'], row['lng']), draggable=False, radius=2, color=\"black\", fill_color=\"black\")\n",
    "    m2.add(marker)\n",
    "\n",
    "lat = nx.get_node_attributes(G, 'lat')\n",
    "lng = nx.get_node_attributes(G, 'lng')\n",
    "for _, row in edges.iterrows():\n",
    "    G.add_edge(row['from'], row['to'])\n",
    "    locs = [[lat[row['from']], lng[row['from']]], [lat[row['to']], lng[row['to']]]]\n",
    "    line = Polyline(locations=locs, color='blue', weight=2)\n",
    "    m2.add(line)\n",
    "\n",
    "print(G)\n",
    "m2.add(FullScreenControl())\n",
    "\n",
    "display(m2)"
   ]
  },
  {
   "cell_type": "code",
   "execution_count": null,
   "id": "1d1025b7-5158-4114-aecb-9798b4dfe172",
   "metadata": {},
   "outputs": [],
   "source": []
  }
 ],
 "metadata": {
  "kernelspec": {
   "display_name": "general",
   "language": "python",
   "name": "python3"
  },
  "language_info": {
   "codemirror_mode": {
    "name": "ipython",
    "version": 3
   },
   "file_extension": ".py",
   "mimetype": "text/x-python",
   "name": "python",
   "nbconvert_exporter": "python",
   "pygments_lexer": "ipython3",
   "version": "3.12.3"
  }
 },
 "nbformat": 4,
 "nbformat_minor": 5
}
